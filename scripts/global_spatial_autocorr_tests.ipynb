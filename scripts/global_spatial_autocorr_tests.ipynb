{
 "cells": [
  {
   "cell_type": "code",
   "execution_count": 3,
   "metadata": {},
   "outputs": [],
   "source": [
    "'''THIS SCRIPT RUNS SPATIAL AUTOCORRELATION TESTS'''\n",
    "\n",
    "'''CREATE BASE FOLDERS'''\n",
    "#You cannot use relative file paths in ArcGIS, therefore base_folder must be manually set. Base folder = downloaded data\n",
    "BASE_FOLDER = r\"\"\n",
    "\n",
    "data_folder = BASE_FOLDER+ r\"\\outputs\"\n",
    "\n",
    "'''CREATE SHAPEFILES'''\n",
    "\n",
    "final_stats_lyr=r\"%s\\lsoa_stats_cropped.shp\" %data_folder\n",
    "\n",
    "variables_to_test = [\"white_p\",\"onstreet_p\",\"ev_%\",\"imd_score\",\"perc_male\",\"mid_age\",\"drive_%\"]\n",
    "\n",
    "'''FUNCTION'''\n",
    "#loop through above variables and run global morans test for spatial autocorrelation\n",
    "for v in variables_to_test:\n",
    "    arcpy.stats.SpatialAutocorrelation(final_stats_lyr, v, \"GENERATE_REPORT\", \"INVERSE_DISTANCE\", \"EUCLIDEAN_DISTANCE\", \"ROW\", None, None, None)\n",
    "    "
   ]
  },
  {
   "cell_type": "code",
   "execution_count": null,
   "metadata": {},
   "outputs": [],
   "source": []
  }
 ],
 "metadata": {
  "kernelspec": {
   "display_name": "ArcGISPro",
   "language": "Python",
   "name": "python3"
  },
  "language_info": {
   "file_extension": ".py",
   "name": "python",
   "version": "3"
  }
 },
 "nbformat": 4,
 "nbformat_minor": 2
}
