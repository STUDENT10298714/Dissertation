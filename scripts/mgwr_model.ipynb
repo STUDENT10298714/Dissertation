{
 "cells": [
  {
   "cell_type": "code",
   "execution_count": 7,
   "metadata": {},
   "outputs": [
    {
     "data": {
      "text/html": [
       "<div class='gpresult'><h2>Messages</h2><div id='messages' data-messages='[\"Start Time: 20 April 2023 12:18:13\",\"WARNING 110259: At least one local regression had very limited variation after applying the weights. Use caution when interpreting the results.\",[{\"element\":\"table\",\"data\":[[\"Explanatory Variables\",\"Mean\",\"Standard Deviation\",\"Minimum\",\"Median\",\"Maximum\"],[\"Intercept\",\"0.0002\",\"0.7704\",\"-0.5624\",\"-0.3053\",\"3.7968\"],[\"mid_age\",\"0.0108\",\"0.0447\",\"-0.2334\",\"0.0167\",\"0.1962\"],[\"ev_%\",\"0.0010\",\"0.1157\",\"-0.7941\",\"0.0046\",\"0.7071\"],[\"onstreet_p\",\"0.0847\",\"0.3536\",\"-0.9554\",\"0.0221\",\"2.4374\"],[\"imd_score\",\"-0.0836\",\"0.1804\",\"-1.3266\",\"-0.0340\",\"0.3649\"],[\"perc_male_\",\"-0.0253\",\"0.0338\",\"-0.1203\",\"-0.0156\",\"0.0620\"]],\"elementProps\":{\"striped\":\"true\",\"title\":\"Summary Statistics for Coefficients Estimates\",\"0\":{\"align\":\"left\",\"pad\":\"0px\",\"wrap\":true},\"1\":{\"align\":\"right\",\"pad\":\"0px\",\"wrap\":true},\"2\":{\"align\":\"right\",\"pad\":\"0px\",\"wrap\":true},\"3\":{\"align\":\"right\",\"pad\":\"0px\",\"wrap\":true},\"4\":{\"align\":\"right\",\"pad\":\"0px\",\"wrap\":true},\"5\":{\"align\":\"right\",\"pad\":\"0px\",\"wrap\":true}}}],\"\",[{\"element\":\"table\",\"data\":[[\"Statistic\",\"GWR\",\"MGWR\"],[\"R-Squared\",\"0.8952\",\"0.9425\"],[\"Adjusted R-Squared\",\"0.8425\",\"0.9199\"],[\"AICc\",\"4699.1799\",\"2829.1681\"],[\"Sigma-Squared\",\"0.1574\",\"0.0801\"],[\"Sigma-Squared MLE\",\"0.1048\",\"0.0575\"],[\"Effective Degrees of Freedom\",\"2452.4973\",\"2645.5188\"]],\"elementProps\":{\"striped\":\"true\",\"footnote\":[\"Optimal GWR Bandwidth: 54 (K nearest neighbors).\"],\"title\":\"Model Diagnostics\",\"0\":{\"align\":\"left\",\"pad\":\"0px\",\"wrap\":true},\"1\":{\"align\":\"right\",\"pad\":\"0px\",\"wrap\":true},\"2\":{\"align\":\"right\",\"pad\":\"0px\",\"wrap\":true}}}],\"\",[{\"element\":\"table\",\"data\":[[\"Explanatory Variables\",[\"Neighbors (% of Features)\",{\"element\":\"sup\",\"data\":\"a\"}],[\"Significant (% of Features)\",{\"element\":\"sup\",\"data\":\"b\"}]],[\"Intercept\",\"30 (0.81)\",\"1755 (47.65)\"],[\"mid_age\",\"127 (3.45)\",\"68 (1.85)\"],[\"ev_%\",\"30 (0.81)\",\"113 (3.07)\"],[\"onstreet_p\",\"30 (0.81)\",\"311 (8.44)\"],[\"imd_score\",\"30 (0.81)\",\"291 (7.90)\"],[\"perc_male_\",\"378 (10.26)\",\"544 (14.77)\"]],\"elementProps\":{\"striped\":\"true\",\"footnote\":[\"a: This number in the parenthesis ranges from 0 to 100%, and can be interpreted as a local, regional, global scale based on the geographical context from low to high.\",\"b: In the parentheses, the percentage of features that have significant coefficients of an explanatory variable.\"],\"title\":\"Summary of Explanatory Variables and Neighborhoods\",\"0\":{\"align\":\"left\",\"pad\":\"0px\",\"wrap\":true},\"1\":{\"align\":\"right\",\"pad\":\"0px\",\"wrap\":true},\"2\":{\"align\":\"right\",\"pad\":\"0px\",\"wrap\":true}}}],\"\",[{\"element\":\"table\",\"data\":[[\"Iterations\",\"Intercept\",\"mid_age\",\"ev_%\",\"onstreet_p\",\"imd_score\",\"perc_male_\",\"AICc\"],[\"0\",\"54\",\"54\",\"54\",\"54\",\"54\",\"54\",\"4699.1799\"],[\"1\",\"30\",\"54\",\"30\",\"30\",\"30\",\"48\",\"3936.8855\"],[\"2\",\"30\",\"54\",\"30\",\"30\",\"30\",\"78\",\"3286.6333\"],[\"3\",\"30\",\"54\",\"30\",\"30\",\"30\",\"98\",\"3102.5176\"],[\"4\",\"30\",\"70\",\"30\",\"30\",\"30\",\"115\",\"3016.9121\"],[\"5\",\"30\",\"78\",\"30\",\"30\",\"30\",\"156\",\"2962.6696\"],[\"6\",\"30\",\"84\",\"30\",\"30\",\"30\",\"234\",\"2913.8981\"],[\"7\",\"30\",\"88\",\"30\",\"30\",\"30\",\"318\",\"2880.7264\"],[\"8\",\"30\",\"88\",\"30\",\"30\",\"30\",\"341\",\"2870.3142\"],[\"9\",\"30\",\"88\",\"30\",\"30\",\"30\",\"378\",\"2865.9308\"],[\"10\",\"30\",\"88\",\"30\",\"30\",\"30\",\"378\",\"2863.2308\"],[\"11\",\"30\",\"115\",\"30\",\"30\",\"30\",\"378\",\"2854.9808\"],[\"12\",\"30\",\"119\",\"30\",\"30\",\"30\",\"378\",\"2848.0145\"],[\"13\",\"30\",\"119\",\"30\",\"30\",\"30\",\"378\",\"2843.9323\"],[\"14\",\"30\",\"126\",\"30\",\"30\",\"30\",\"378\",\"2840.6001\"],[\"15\",\"30\",\"126\",\"30\",\"30\",\"30\",\"378\",\"2837.5421\"],[\"16\",\"30\",\"127\",\"30\",\"30\",\"30\",\"378\",\"2835.1853\"],[\"17\",\"30\",\"127\",\"30\",\"30\",\"30\",\"378\",\"2833.4622\"],[\"18\",\"30\",\"127\",\"30\",\"30\",\"30\",\"378\",\"2832.0950\"],[\"19\",\"30\",\"127\",\"30\",\"30\",\"30\",\"378\",\"2830.9671\"],[\"20\",\"30\",\"127\",\"30\",\"30\",\"30\",\"378\",\"2830.0063\"],[\"21\",\"30\",\"127\",\"30\",\"30\",\"30\",\"378\",\"2829.1681\"]],\"elementProps\":{\"striped\":\"true\",\"title\":\"Optimal Bandwidths Search History\",\"0\":{\"align\":\"left\",\"pad\":\"0px\",\"wrap\":true},\"1\":{\"align\":\"right\",\"pad\":\"0px\",\"wrap\":true},\"2\":{\"align\":\"right\",\"pad\":\"0px\",\"wrap\":true},\"3\":{\"align\":\"right\",\"pad\":\"0px\",\"wrap\":true},\"4\":{\"align\":\"right\",\"pad\":\"0px\",\"wrap\":true},\"5\":{\"align\":\"right\",\"pad\":\"0px\",\"wrap\":true},\"6\":{\"align\":\"right\",\"pad\":\"0px\",\"wrap\":true},\"7\":{\"align\":\"right\",\"pad\":\"0px\",\"wrap\":true}}}],\"\",[{\"element\":\"table\",\"data\":[[\"Explanatory Variables\",\"Optimal Number of Neighbors\",\"Effective Number of Parameters\",\"Adjusted Value of Alpha\",\"Adjusted Critical Value of Pseudo-t Statistics\"],[\"Intercept\",\"30\",\"222.49\",\"0.0002\",\"3.6946\"],[\"mid_age\",\"127\",\"48.95\",\"0.0010\",\"3.2882\"],[\"ev_%\",\"30\",\"259.15\",\"0.0002\",\"3.7333\"],[\"onstreet_p\",\"30\",\"238.58\",\"0.0002\",\"3.7124\"],[\"imd_score\",\"30\",\"249.81\",\"0.0002\",\"3.7240\"],[\"perc_male_\",\"378\",\"18.51\",\"0.0027\",\"3.0026\"]],\"elementProps\":{\"striped\":\"true\",\"title\":\"Bandwidth Statistics Summary\",\"0\":{\"align\":\"left\",\"pad\":\"0px\",\"wrap\":true},\"1\":{\"align\":\"right\",\"pad\":\"0px\",\"wrap\":true},\"2\":{\"align\":\"right\",\"pad\":\"0px\",\"wrap\":true},\"3\":{\"align\":\"right\",\"pad\":\"0px\",\"wrap\":true},\"4\":{\"align\":\"right\",\"pad\":\"0px\",\"wrap\":true}}}],\"\",\"Succeeded at 20 April 2023 12:23:42 (Elapsed Time: 5 minutes 28 seconds)\"]' data-show='true'><div id = 'default' /></div></div>"
      ],
      "text/plain": [
       "<Result 'C:\\\\Users\\\\Captain Haddock\\\\Documents\\\\dissertation_test\\\\outputs\\\\MGWR_layer.shp'>"
      ]
     },
     "execution_count": 7,
     "metadata": {},
     "output_type": "execute_result"
    }
   ],
   "source": [
    "'''THIS SCRIPT CREATES THE MULTISCALE GEOGRAPHICALLY WEIGHTED REGRESSION (MGWR) MODEL'''\n",
    "#need to set base folder\n",
    "BASE_FOLDER = r\"C:\\Users\\Captain Haddock\\Documents\\dissertation_test\"\n",
    "\n",
    "output_folder= BASE_FOLDER+r\"\\outputs\"\n",
    "\n",
    "#the input\n",
    "lsoa_for_mgwr = r\"%s\\lsoa_for_mgwr.shp\" %output_folder\n",
    "\n",
    "#the output\n",
    "MGWR_layer=r\"%s\\MGWR_layer.shp\" %output_folder\n",
    "\n",
    "#run the MGWR using golden search and bisquare bandwidth specifications\n",
    "arcpy.stats.MGWR(lsoa_for_mgwr, \"charger_de\", \"CONTINUOUS\", \"mid_age;ev_%;onstreet_p;imd_score;perc_male_\",MGWR_layer, \"NUMBER_OF_NEIGHBORS\", \"GOLDEN_SEARCH\", None, None, '', None, None, None, None, None, None, None, \"mid_age # #;ev_% # #;onstreet_p # #;imd_score # #;perc_male_ # #\", None, None, None, None, None, None, None, None, \"ROBUST\", \"BISQUARE\", None, None, \"SCALE_DATA\")"
   ]
  },
  {
   "cell_type": "code",
   "execution_count": null,
   "metadata": {},
   "outputs": [],
   "source": []
  }
 ],
 "metadata": {
  "kernelspec": {
   "display_name": "ArcGISPro",
   "language": "Python",
   "name": "python3"
  },
  "language_info": {
   "file_extension": ".py",
   "name": "python",
   "version": "3"
  }
 },
 "nbformat": 4,
 "nbformat_minor": 2
}
