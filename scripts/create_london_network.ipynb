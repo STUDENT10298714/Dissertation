{
 "cells": [
  {
   "cell_type": "code",
   "execution_count": 1,
   "metadata": {},
   "outputs": [
    {
     "data": {
      "text/html": [
       "<div class='gpresult'><h2>Messages</h2><div id='messages' data-messages='[\"Start Time: 20 April 2023 10:15:59\",\"WARNING 030116: The network was built, but with some errors.  Error details are at \\\"C:\\\\Users\\\\CAPTAI~1\\\\AppData\\\\Local\\\\Temp\\\\ArcGISProTemp16928\\\\BuildErrors.txt\\\".\",\"Succeeded at 20 April 2023 10:16:56 (Elapsed Time: 56.92 seconds)\"]' data-show='true'><div id = 'default' /></div></div>"
      ],
      "text/plain": [
       "<Result 'C:\\\\Users\\\\Captain Haddock\\\\Documents\\\\dissertation_test\\\\bin\\\\dissertation_gdb.gdb\\\\london_road_network\\\\london_road_network_dataset'>"
      ]
     },
     "execution_count": 1,
     "metadata": {},
     "output_type": "execute_result"
    }
   ],
   "source": [
    "'''THIS SCRIPT CREATES NETWORK LAYER FROM LONDON's ROAD/FOOTPATHS'''\n",
    "\n",
    "'''CREATE BASE FOLDERS'''\n",
    "#You cannot use relative file paths in ArcGIS, therefore base_folder must be manually set. Base folder = overall project folder\n",
    "BASE_FOLDER = r\"\"\n",
    "\n",
    "bin_folder = BASE_FOLDER+r\"\\bin\"\n",
    "\n",
    "bin_gdb = bin_folder + \"\\dissertation_gdb.gdb\"\n",
    "\n",
    "data_folder = BASE_FOLDER+ r\"\\input_data\"\n",
    "\n",
    "xml_file = BASE_FOLDER+r\"\\input_data\\XML\\london_network_template.xml\"\n",
    "\n",
    "'''CREATE SHAPEFILES'''\n",
    "\n",
    "#Retrieve London road/footpath dataset. This one needs to be \"''\" \n",
    "road_shp_apostrophe=r\"'%s\\OSM_london_roads\\gis_osm_roads_free_1.shp'\" %data_folder\n",
    "\n",
    "#as above, but with no apostrophes\n",
    "road_shp=r\"%s\\OSM_london_roads\\gis_osm_roads_free_1.shp\" %data_folder\n",
    "\n",
    "#set file names for outputs\n",
    "intersection_points = r\"%s\\road_inter_points.shp\" %bin_folder\n",
    "\n",
    "dissolved_points=r\"%s\\road_points_dissolved.shp\" %bin_folder\n",
    "\n",
    "road_split =  r\"%s\\osm_roads_split.shp\" %bin_folder\n",
    "\n",
    "network_dataset = r\"%s\\london_road_network\" %bin_gdb\n",
    "\n",
    "network = r\"%s\\london_road_network\\london_road_network_dataset\" %bin_gdb\n",
    "\n",
    "'''FUNCTIONS'''\n",
    "\n",
    "# intersect the road with itself, with output as points - these will be network's nodes\n",
    "arcpy.analysis.PairwiseIntersect(road_shp_apostrophe,intersection_points, \"ALL\", None, \"POINT\")\n",
    "\n",
    "#add xy coordinates to these points as columns\n",
    "arcpy.management.AddXY(intersection_points)\n",
    "\n",
    "#dissolve by xy coordinates, because there are lots of duplicate points\n",
    "arcpy.analysis.PairwiseDissolve(intersection_points,dissolved_points, \"POINT_X;POINT_Y\", None, \"SINGLE_PART\", '')\n",
    "\n",
    "#split road lines based at the above points - these will be network's edges. This takes a long time!\n",
    "arcpy.management.SplitLineAtPoint(road_shp, dissolved_points,road_split , \"0.01 Meters\")\n",
    "\n",
    "#create new dataset\n",
    "arcpy.management.CreateFeatureDataset(bin_gdb, \"london_road_network\", 'PROJCS[\"British_National_Grid\",GEOGCS[\"GCS_OSGB_1936\",DATUM[\"D_OSGB_1936\",SPHEROID[\"Airy_1830\",6377563.396,299.3249646]],PRIMEM[\"Greenwich\",0.0],UNIT[\"Degree\",0.0174532925199433]],PROJECTION[\"Transverse_Mercator\"],PARAMETER[\"False_Easting\",400000.0],PARAMETER[\"False_Northing\",-100000.0],PARAMETER[\"Central_Meridian\",-2.0],PARAMETER[\"Scale_Factor\",0.9996012717],PARAMETER[\"Latitude_Of_Origin\",49.0],UNIT[\"Meter\",1.0]];-5220400 -15524400 10000;-100000 10000;-100000 10000;0.001;0.001;0.001;IsHighPrecision')\n",
    "\n",
    "#import points and lines to this dataset\n",
    "arcpy.conversion.FeatureClassToGeodatabase(road_split+\";\"+dissolved_points, network_dataset)\n",
    "                               \n",
    "#convert above dataset to network dataset, using premade xml file as a template \n",
    "arcpy.na.CreateNetworkDatasetFromTemplate(xml_file, network_dataset)\n",
    "\n",
    "#build ArcGIS network from network dataset\n",
    "arcpy.na.BuildNetwork(network)                                      "
   ]
  },
  {
   "cell_type": "code",
   "execution_count": null,
   "metadata": {},
   "outputs": [],
   "source": []
  }
 ],
 "metadata": {
  "kernelspec": {
   "display_name": "ArcGISPro",
   "language": "Python",
   "name": "python3"
  },
  "language_info": {
   "file_extension": ".py",
   "name": "python",
   "version": "3"
  }
 },
 "nbformat": 4,
 "nbformat_minor": 2
}
