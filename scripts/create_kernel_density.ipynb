{
 "cells": [
  {
   "cell_type": "code",
   "execution_count": 5,
   "metadata": {},
   "outputs": [],
   "source": [
    "'''THIS SCRIPT CREATES THE KERNEL DENSITY ESTIMATES LAYER'''\n",
    "\n",
    "'''CREATE FILE PATHS'''\n",
    "#You cannot use relative file paths in ArcGIS, therefore base_folder must be manually set. Base folder = overall project folder\n",
    "BASE_FOLDER = r'C:\\Users\\Captain Haddock\\Documents\\dissertation_test'\n",
    "\n",
    "bin_folder = BASE_FOLDER+r\"\\bin\"\n",
    "\n",
    "outputs = BASE_FOLDER + r\"\\outputs\"\n",
    "\n",
    "'''CREATE SHAPEFILE PATHS'''\n",
    "\n",
    "chargers = r\"%s\\NCR_chargers.shp\" %outputs\n",
    "\n",
    "k_density = r\"%s\\charger_k_density.TIF\" %bin_folder\n",
    "\n",
    "'''CREATE KERNEL DENSITY LAYER'''\n",
    "#10m cell size (this is the same resolution as our population dataset), 500m distance to find density\n",
    "with arcpy.EnvManager(outputCoordinateSystem='PROJCS[\"British_National_Grid\",GEOGCS[\"GCS_OSGB_1936\",DATUM[\"D_OSGB_1936\",SPHEROID[\"Airy_1830\",6377563.396,299.3249646]],PRIMEM[\"Greenwich\",0.0],UNIT[\"Degree\",0.0174532925199433]],PROJECTION[\"Transverse_Mercator\"],PARAMETER[\"False_Easting\",400000.0],PARAMETER[\"False_Northing\",-100000.0],PARAMETER[\"Central_Meridian\",-2.0],PARAMETER[\"Scale_Factor\",0.9996012717],PARAMETER[\"Latitude_Of_Origin\",49.0],UNIT[\"Meter\",1.0]]', extent='503568.2 155850.8 561957.5 200933.9 PROJCS[\"British_National_Grid\",GEOGCS[\"GCS_OSGB_1936\",DATUM[\"D_OSGB_1936\",SPHEROID[\"Airy_1830\",6377563.396,299.3249646]],PRIMEM[\"Greenwich\",0.0],UNIT[\"Degree\",0.0174532925199433]],PROJECTION[\"Transverse_Mercator\"],PARAMETER[\"False_Easting\",400000.0],PARAMETER[\"False_Northing\",-100000.0],PARAMETER[\"Central_Meridian\",-2.0],PARAMETER[\"Scale_Factor\",0.9996012717],PARAMETER[\"Latitude_Of_Origin\",49.0],UNIT[\"Meter\",1.0]]'):\n",
    "    out_raster = arcpy.sa.KernelDensity(chargers, \"NONE\", 10, 500, \"SQUARE_KILOMETERS\", \"DENSITIES\", \"PLANAR\", None); out_raster.save(k_density)\n",
    "\n"
   ]
  },
  {
   "cell_type": "code",
   "execution_count": null,
   "metadata": {},
   "outputs": [],
   "source": []
  }
 ],
 "metadata": {
  "kernelspec": {
   "display_name": "ArcGISPro",
   "language": "Python",
   "name": "python3"
  },
  "language_info": {
   "file_extension": ".py",
   "name": "python",
   "version": "3"
  }
 },
 "nbformat": 4,
 "nbformat_minor": 2
}
